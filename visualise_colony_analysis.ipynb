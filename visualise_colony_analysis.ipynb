{
 "cells": [
  {
   "cell_type": "code",
   "execution_count": 1,
   "metadata": {},
   "outputs": [],
   "source": [
    "import numpy as np\n",
    "import matplotlib.pyplot as plt\n",
    "import time\n",
    "from skimage import measure\n",
    "from classes import *\n",
    "from functions import *"
   ]
  },
  {
   "cell_type": "code",
   "execution_count": 2,
   "metadata": {},
   "outputs": [],
   "source": [
    "# wild type attributes (FLO11)\n",
    "rWT = 0.24\n",
    "KWT = 30\n",
    "mWT = 0.1\n",
    "# mutation_rateWT = 4.104e-06\n",
    "mutation_rateWT = 0\n",
    "# mutant attributes (FLO11 knockout)\n",
    "rMT = 0.24\n",
    "KMT = 30\n",
    "mMT = 0.1\n",
    "# mutation_rateMT = 4.104e-06\n",
    "mutation_rateMT = 0\n",
    "\n",
    "traits = CellTraits(rWT, KWT, mWT, mutation_rateWT, rMT, KMT, mMT, mutation_rateMT)\n",
    "\n",
    "total_days = 5\n",
    "final_time = total_days * 24\n",
    "size = [250, 250]\n",
    "cell_count = 4\n",
    "frequency = 0.5\n",
    "colony_no = 1000"
   ]
  },
  {
   "cell_type": "code",
   "execution_count": 3,
   "metadata": {},
   "outputs": [
    {
     "name": "stdout",
     "output_type": "stream",
     "text": [
      "WT attributes: r = 0.24, K = 30, m = 0.1, mutation rate = 0\n",
      "MT attributes: r = 0.24, K = 30, m = 0.1, mutation rate = 0\n",
      "initial conditions: subcolony size = 4, number of subcolonies = 1000, and allele frequency = 0.5\n",
      "growth time = 30 days\n"
     ]
    }
   ],
   "source": [
    "print('WT attributes: r = {}, K = {}, m = {}, mutation rate = {}'.format(rWT,KWT,mWT,mutation_rateWT))\n",
    "print('MT attributes: r = {}, K = {}, m = {}, mutation rate = {}'.format(rMT, KMT, mMT, mutation_rateMT))\n",
    "print('initial conditions: subcolony size = {}, number of subcolonies = {}, and allele frequency = {}'.format(cell_count, colony_no, frequency))\n",
    "print('growth time = {} days'.format(total_days))"
   ]
  },
  {
   "cell_type": "code",
   "execution_count": 4,
   "metadata": {},
   "outputs": [
    {
     "ename": "KeyboardInterrupt",
     "evalue": "",
     "output_type": "error",
     "traceback": [
      "\u001b[0;31m---------------------------------------------------------------------------\u001b[0m",
      "\u001b[0;31mKeyboardInterrupt\u001b[0m                         Traceback (most recent call last)",
      "\u001b[0;32m<ipython-input-4-c48db99f0f64>\u001b[0m in \u001b[0;36m<module>\u001b[0;34m\u001b[0m\n\u001b[1;32m      1\u001b[0m \u001b[0mt\u001b[0m \u001b[0;34m=\u001b[0m \u001b[0mtime\u001b[0m\u001b[0;34m.\u001b[0m\u001b[0mtime\u001b[0m\u001b[0;34m(\u001b[0m\u001b[0;34m)\u001b[0m\u001b[0;34m\u001b[0m\u001b[0;34m\u001b[0m\u001b[0m\n\u001b[0;32m----> 2\u001b[0;31m \u001b[0;34m[\u001b[0m\u001b[0mstates_list\u001b[0m\u001b[0;34m,\u001b[0m \u001b[0mcounts_list\u001b[0m\u001b[0;34m,\u001b[0m \u001b[0mcmaps_list\u001b[0m\u001b[0;34m,\u001b[0m \u001b[0mnorms_list\u001b[0m\u001b[0;34m,\u001b[0m \u001b[0mtime_list\u001b[0m\u001b[0;34m]\u001b[0m \u001b[0;34m=\u001b[0m \u001b[0mrun_simulation\u001b[0m\u001b[0;34m(\u001b[0m\u001b[0mfinal_time\u001b[0m\u001b[0;34m,\u001b[0m \u001b[0mtraits\u001b[0m\u001b[0;34m,\u001b[0m \u001b[0msize\u001b[0m\u001b[0;34m,\u001b[0m \u001b[0mcell_count\u001b[0m\u001b[0;34m,\u001b[0m \u001b[0mfrequency\u001b[0m\u001b[0;34m,\u001b[0m \u001b[0mcolony_no\u001b[0m \u001b[0;34m=\u001b[0m \u001b[0mcolony_no\u001b[0m\u001b[0;34m)\u001b[0m\u001b[0;34m\u001b[0m\u001b[0;34m\u001b[0m\u001b[0m\n\u001b[0m\u001b[1;32m      3\u001b[0m \u001b[0melapsed\u001b[0m \u001b[0;34m=\u001b[0m \u001b[0mtime\u001b[0m\u001b[0;34m.\u001b[0m\u001b[0mtime\u001b[0m\u001b[0;34m(\u001b[0m\u001b[0;34m)\u001b[0m \u001b[0;34m-\u001b[0m \u001b[0mt\u001b[0m\u001b[0;34m\u001b[0m\u001b[0;34m\u001b[0m\u001b[0m\n\u001b[1;32m      4\u001b[0m \u001b[0mprint\u001b[0m\u001b[0;34m(\u001b[0m\u001b[0;34m'time elapsed: {}'\u001b[0m\u001b[0;34m.\u001b[0m\u001b[0mformat\u001b[0m\u001b[0;34m(\u001b[0m\u001b[0melapsed\u001b[0m\u001b[0;34m)\u001b[0m\u001b[0;34m)\u001b[0m\u001b[0;34m\u001b[0m\u001b[0;34m\u001b[0m\u001b[0m\n",
      "\u001b[0;32m~/Documents/Research/clab/meta-colony-model/functions.py\u001b[0m in \u001b[0;36mrun_simulation\u001b[0;34m(final_time, traits, size, cell_count, frequency, colony_no, display)\u001b[0m\n\u001b[1;32m     43\u001b[0m \u001b[0;34m\u001b[0m\u001b[0m\n\u001b[1;32m     44\u001b[0m     \u001b[0;32mwhile\u001b[0m \u001b[0;34m(\u001b[0m\u001b[0mt\u001b[0m \u001b[0;34m<\u001b[0m \u001b[0mfinal_time\u001b[0m\u001b[0;34m)\u001b[0m\u001b[0;34m:\u001b[0m\u001b[0;34m\u001b[0m\u001b[0;34m\u001b[0m\u001b[0m\n\u001b[0;32m---> 45\u001b[0;31m         \u001b[0;34m[\u001b[0m\u001b[0mlattice\u001b[0m\u001b[0;34m,\u001b[0m \u001b[0mdeltat\u001b[0m\u001b[0;34m]\u001b[0m \u001b[0;34m=\u001b[0m \u001b[0mtracker\u001b[0m\u001b[0;34m.\u001b[0m\u001b[0mgrowth\u001b[0m\u001b[0;34m(\u001b[0m\u001b[0mlattice\u001b[0m\u001b[0;34m)\u001b[0m\u001b[0;34m\u001b[0m\u001b[0;34m\u001b[0m\u001b[0m\n\u001b[0m\u001b[1;32m     46\u001b[0m \u001b[0;34m\u001b[0m\u001b[0m\n\u001b[1;32m     47\u001b[0m         \u001b[0mt\u001b[0m \u001b[0;34m=\u001b[0m \u001b[0mt\u001b[0m \u001b[0;34m+\u001b[0m \u001b[0mdeltat\u001b[0m\u001b[0;34m\u001b[0m\u001b[0;34m\u001b[0m\u001b[0m\n",
      "\u001b[0;32m~/Documents/Research/clab/meta-colony-model/classes.py\u001b[0m in \u001b[0;36mgrowth\u001b[0;34m(self, states)\u001b[0m\n\u001b[1;32m    222\u001b[0m         \u001b[0mtotal_rate\u001b[0m \u001b[0;34m=\u001b[0m \u001b[0msum\u001b[0m\u001b[0;34m(\u001b[0m\u001b[0mtemp\u001b[0m\u001b[0;34m)\u001b[0m\u001b[0;34m\u001b[0m\u001b[0;34m\u001b[0m\u001b[0m\n\u001b[1;32m    223\u001b[0m         \u001b[0mp\u001b[0m \u001b[0;34m=\u001b[0m \u001b[0mnp\u001b[0m\u001b[0;34m.\u001b[0m\u001b[0marray\u001b[0m\u001b[0;34m(\u001b[0m\u001b[0mtemp\u001b[0m\u001b[0;34m)\u001b[0m\u001b[0;34m/\u001b[0m\u001b[0mtotal_rate\u001b[0m\u001b[0;34m\u001b[0m\u001b[0;34m\u001b[0m\u001b[0m\n\u001b[0;32m--> 224\u001b[0;31m         \u001b[0mchosen_coords\u001b[0m \u001b[0;34m=\u001b[0m \u001b[0mnp\u001b[0m\u001b[0;34m.\u001b[0m\u001b[0mrandom\u001b[0m\u001b[0;34m.\u001b[0m\u001b[0mchoice\u001b[0m\u001b[0;34m(\u001b[0m\u001b[0mcoords\u001b[0m\u001b[0;34m,\u001b[0m \u001b[0mp\u001b[0m \u001b[0;34m=\u001b[0m \u001b[0mp\u001b[0m\u001b[0;34m)\u001b[0m\u001b[0;34m\u001b[0m\u001b[0;34m\u001b[0m\u001b[0m\n\u001b[0m\u001b[1;32m    225\u001b[0m         \u001b[0mchosen_colony\u001b[0m \u001b[0;34m=\u001b[0m \u001b[0mself\u001b[0m\u001b[0;34m.\u001b[0m\u001b[0msubcolonies\u001b[0m\u001b[0;34m[\u001b[0m\u001b[0mchosen_coords\u001b[0m\u001b[0;34m]\u001b[0m\u001b[0;34m\u001b[0m\u001b[0;34m\u001b[0m\u001b[0m\n\u001b[1;32m    226\u001b[0m \u001b[0;34m\u001b[0m\u001b[0m\n",
      "\u001b[0;32mmtrand.pyx\u001b[0m in \u001b[0;36mnumpy.random.mtrand.RandomState.choice\u001b[0;34m()\u001b[0m\n",
      "\u001b[0;31mKeyboardInterrupt\u001b[0m: "
     ]
    }
   ],
   "source": [
    "t = time.time()\n",
    "[states_list, counts_list, cmaps_list, norms_list, time_list] = run_simulation(final_time, traits, size, cell_count, frequency, colony_no = colony_no)\n",
    "elapsed = time.time() - t\n",
    "print('time elapsed: {}'.format(elapsed))"
   ]
  },
  {
   "cell_type": "code",
   "execution_count": 99,
   "metadata": {},
   "outputs": [
    {
     "name": "stdout",
     "output_type": "stream",
     "text": [
      "time: 0, total cell count: 4000.0, lattice sites occupied: 1000, colony allele frequency: 0.5\n",
      "time: 24.00190877582213, total cell count: 38712.0, lattice sites occupied: 1407, colony allele frequency: 0.5027108989354638\n",
      "time: 48.003076541523555, total cell count: 51750.0, lattice sites occupied: 1848, colony allele frequency: 0.5071164354455908\n",
      "time: 72.003328106672, total cell count: 66516.0, lattice sites occupied: 2397, colony allele frequency: 0.522292847656765\n",
      "time: 96.00338647805326, total cell count: 86711.0, lattice sites occupied: 3095, colony allele frequency: 0.5496040572885107\n",
      "time: 120.0044415846978, total cell count: 108356.0, lattice sites occupied: 3818, colony allele frequency: 0.559692858066383\n",
      "time: 144.00485666649035, total cell count: 132414.0, lattice sites occupied: 4650, colony allele frequency: 0.5736017390428833\n",
      "time: 168.00490161040887, total cell count: 157208.0, lattice sites occupied: 5468, colony allele frequency: 0.5802480571547791\n",
      "time: 192.00514436953324, total cell count: 183862.0, lattice sites occupied: 6409, colony allele frequency: 0.5955519135573858\n",
      "time: 216.0051489202546, total cell count: 214070.0, lattice sites occupied: 7452, colony allele frequency: 0.6120037614299401\n",
      "time: 240.0054841320243, total cell count: 247372.0, lattice sites occupied: 8579, colony allele frequency: 0.6270877831863003\n",
      "time: 264.00572305954927, total cell count: 283256.0, lattice sites occupied: 9795, colony allele frequency: 0.6338763067199459\n",
      "time: 288.0060140513722, total cell count: 322621.0, lattice sites occupied: 11133, colony allele frequency: 0.6387303260341863\n",
      "time: 312.00641526728765, total cell count: 363719.0, lattice sites occupied: 12519, colony allele frequency: 0.6451195655545003\n",
      "time: 336.006703504027, total cell count: 406898.0, lattice sites occupied: 13963, colony allele frequency: 0.649492742834211\n",
      "time: 360.00712920702364, total cell count: 451865.0, lattice sites occupied: 15534, colony allele frequency: 0.6507084148604336\n",
      "time: 384.0071309875958, total cell count: 504648.0, lattice sites occupied: 17284, colony allele frequency: 0.6529118719658751\n",
      "time: 408.0075170785418, total cell count: 557550.0, lattice sites occupied: 19108, colony allele frequency: 0.650418355865664\n",
      "time: 432.0076179496532, total cell count: 611729.0, lattice sites occupied: 20965, colony allele frequency: 0.6517024094695273\n",
      "time: 456.0078212886829, total cell count: 671670.0, lattice sites occupied: 22926, colony allele frequency: 0.650816614173312\n",
      "time: 480.008045215997, total cell count: 729408.0, lattice sites occupied: 24864, colony allele frequency: 0.6492617907849724\n",
      "time: 504.00806100495424, total cell count: 793829.0, lattice sites occupied: 27101, colony allele frequency: 0.6455507923581992\n",
      "time: 528.0080822928214, total cell count: 858644.0, lattice sites occupied: 29241, colony allele frequency: 0.6446390538501532\n",
      "time: 552.0081791946349, total cell count: 925263.0, lattice sites occupied: 31515, colony allele frequency: 0.6439246271010899\n",
      "time: 576.0081801412948, total cell count: 1000398.0, lattice sites occupied: 34058, colony allele frequency: 0.6435374521193449\n",
      "time: 600.0083964052857, total cell count: 1075068.0, lattice sites occupied: 36581, colony allele frequency: 0.6416633775591215\n",
      "time: 624.0086824736617, total cell count: 1151944.0, lattice sites occupied: 39130, colony allele frequency: 0.6411039106511207\n",
      "time: 648.008690172706, total cell count: 1231271.0, lattice sites occupied: 41828, colony allele frequency: 0.6408546991229045\n",
      "time: 672.0087600849123, total cell count: 1313826.0, lattice sites occupied: 44603, colony allele frequency: 0.640554104270169\n",
      "time: 696.0089803945389, total cell count: 1399201.0, lattice sites occupied: 47413, colony allele frequency: 0.6390146681459402\n",
      "time: 720.0000156425871, total cell count: 1484370.0, lattice sites occupied: 50258, colony allele frequency: 0.6368742677135518\n"
     ]
    }
   ],
   "source": [
    "for i in range(len(time_list)):\n",
    "    counts = np.array(counts_list[i])\n",
    "    states = np.array(states_list[i])\n",
    "    day = time_list[i]\n",
    "    cmap = cmaps_list[i]\n",
    "    norm = norms_list[i]\n",
    "    masked_array = np.ma.array(states, mask = np.isnan(states))\n",
    "    size = np.sum(counts)\n",
    "    area = np.count_nonzero(counts)\n",
    "    frequency = np.nanmean(states)\n",
    "    print('time: {}, total cell count: {}, lattice sites occupied: {}, colony allele frequency: {}'.format(day, size, area, frequency))\n",
    "    # plt.imshow(masked_array, cmap=cmap, norm=norm)\n",
    "    # plt.show()"
   ]
  },
  {
   "cell_type": "code",
   "execution_count": 43,
   "metadata": {},
   "outputs": [],
   "source": [
    "image = lattice.counts\n",
    "image[np.nonzero(image)] = 1\n",
    "perimeter1 = measure.perimeter(image, neighborhood=8)\n",
    "area1 = np.count_nonzero(lattice.counts)"
   ]
  },
  {
   "cell_type": "code",
   "execution_count": 45,
   "metadata": {},
   "outputs": [
    {
     "data": {
      "text/plain": [
       "4.283280990036308"
      ]
     },
     "execution_count": 45,
     "metadata": {},
     "output_type": "execute_result"
    }
   ],
   "source": [
    "p2a1 = (perimeter1**2)/(4 * math.pi * area1)\n",
    "p2a1"
   ]
  }
 ],
 "metadata": {
  "kernelspec": {
   "display_name": "Python 3",
   "language": "python",
   "name": "python3"
  },
  "language_info": {
   "codemirror_mode": {
    "name": "ipython",
    "version": 3
   },
   "file_extension": ".py",
   "mimetype": "text/x-python",
   "name": "python",
   "nbconvert_exporter": "python",
   "pygments_lexer": "ipython3",
   "version": "3.8.5"
  },
  "orig_nbformat": 4
 },
 "nbformat": 4,
 "nbformat_minor": 2
}
