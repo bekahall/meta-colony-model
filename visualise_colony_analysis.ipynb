{
 "cells": [
  {
   "cell_type": "code",
   "execution_count": 1,
   "metadata": {},
   "outputs": [],
   "source": [
    "import numpy as np\n",
    "import matplotlib.pyplot as plt\n",
    "import time\n",
    "from skimage import measure\n",
    "from classes import *\n",
    "from functions import *"
   ]
  },
  {
   "cell_type": "code",
   "execution_count": 2,
   "metadata": {},
   "outputs": [],
   "source": [
    "# wild type attributes (FLO11)\n",
    "rWT = 0.24\n",
    "KWT = 30\n",
    "mWT = 0.9\n",
    "# mutation_rateWT = 4.104e-06\n",
    "mutation_rateWT = 0\n",
    "# mutant attributes (FLO11 knockout)\n",
    "rMT = 0.24\n",
    "KMT = 120\n",
    "mMT = 0.7\n",
    "# mutation_rateMT = 4.104e-06\n",
    "mutation_rateMT = 0\n",
    "\n",
    "traits = CellTraits(rWT, KWT, mWT, mutation_rateWT, rMT, KMT, mMT, mutation_rateMT)\n",
    "\n",
    "total_days = 1\n",
    "final_time = total_days * 24\n",
    "size = [500, 500]\n",
    "cell_count = 10\n",
    "frequency = 0.5\n",
    "colony_no = 1000"
   ]
  },
  {
   "cell_type": "code",
   "execution_count": 3,
   "metadata": {},
   "outputs": [
    {
     "name": "stdout",
     "output_type": "stream",
     "text": [
      "WT attributes: r = 0.24, K = 30, m = 0.9, mutation rate = 0\n",
      "MT attributes: r = 0.24, K = 120, m = 0.7, mutation rate = 0\n",
      "initial conditions: subcolony size = 10, number of subcolonies = 1000, and allele frequency = 0.5\n",
      "growth time = 1 days\n"
     ]
    }
   ],
   "source": [
    "print('WT attributes: r = {}, K = {}, m = {}, mutation rate = {}'.format(rWT,KWT,mWT,mutation_rateWT))\n",
    "print('MT attributes: r = {}, K = {}, m = {}, mutation rate = {}'.format(rMT, KMT, mMT, mutation_rateMT))\n",
    "print('initial conditions: subcolony size = {}, number of subcolonies = {}, and allele frequency = {}'.format(cell_count, colony_no, frequency))\n",
    "print('growth time = {} days'.format(total_days))"
   ]
  },
  {
   "cell_type": "code",
   "execution_count": 4,
   "metadata": {},
   "outputs": [
    {
     "name": "stdout",
     "output_type": "stream",
     "text": [
      "time elapsed: 695.7489559650421\n"
     ]
    }
   ],
   "source": [
    "t = time.time()\n",
    "lattice = run_simulation(final_time, traits, size, cell_count, frequency, colony_no = colony_no)\n",
    "elapsed = time.time() - t\n",
    "print('time elapsed: {}'.format(elapsed))"
   ]
  },
  {
   "cell_type": "code",
   "execution_count": 5,
   "metadata": {},
   "outputs": [
    {
     "name": "stdout",
     "output_type": "stream",
     "text": [
      "total cell count: 662013.0\n",
      "lattice sites occupied: 7847\n",
      "colony allele frequency: 0.6020423356581581\n"
     ]
    }
   ],
   "source": [
    "print('total cell count: ' + str(lattice.colony_size()))\n",
    "print('lattice sites occupied: ' + str(np.count_nonzero(lattice.counts)))\n",
    "print('colony allele frequency: ' + str(lattice.colony_frequency()))"
   ]
  },
  {
   "cell_type": "code",
   "execution_count": 6,
   "metadata": {},
   "outputs": [
    {
     "data": {
      "text/plain": [
       "<matplotlib.image.AxesImage at 0x7fb7b5e832e0>"
      ]
     },
     "execution_count": 6,
     "metadata": {},
     "output_type": "execute_result"
    },
    {
     "data": {
      "image/png": "[encoded data removed]",
      "text/plain": [
       "<Figure size 432x288 with 1 Axes>"
      ]
     },
     "metadata": {
      "needs_background": "light"
     },
     "output_type": "display_data"
    }
   ],
   "source": [
    "lattice.return_colony_image()"
   ]
  },
  {
   "cell_type": "code",
   "execution_count": 43,
   "metadata": {},
   "outputs": [],
   "source": [
    "image = lattice.counts\n",
    "image[np.nonzero(image)] = 1\n",
    "perimeter1 = measure.perimeter(image, neighborhood=8)\n",
    "area1 = np.count_nonzero(lattice.counts)"
   ]
  },
  {
   "cell_type": "code",
   "execution_count": 45,
   "metadata": {},
   "outputs": [
    {
     "data": {
      "text/plain": [
       "4.283280990036308"
      ]
     },
     "execution_count": 45,
     "metadata": {},
     "output_type": "execute_result"
    }
   ],
   "source": [
    "p2a1 = (perimeter1**2)/(4 * math.pi * area1)\n",
    "p2a1"
   ]
  },
  {
   "cell_type": "code",
   "execution_count": 36,
   "metadata": {},
   "outputs": [],
   "source": [
    "# wild type attributes (FLO11)\n",
    "rWT = 0.24\n",
    "KWT = 100\n",
    "mWT = 0.3\n",
    "# mutation_rateWT = 4.104e-06\n",
    "mutation_rateWT = 0\n",
    "# mutant attributes (FLO11 knockout)\n",
    "rMT = 0.24\n",
    "KMT = 100\n",
    "mMT = 0.3\n",
    "# mutation_rateMT = 4.104e-06\n",
    "mutation_rateMT = 0\n",
    "\n",
    "traits = CellTraits(rWT, KWT, mWT, mutation_rateWT, rMT, KMT, mMT, mutation_rateMT)\n",
    "\n",
    "total_days = 2\n",
    "final_time = total_days * 24\n",
    "size = [500, 500]\n",
    "cell_count = 10\n",
    "frequency = 0.5\n",
    "colony_no = 1000"
   ]
  },
  {
   "cell_type": "code",
   "execution_count": 37,
   "metadata": {},
   "outputs": [
    {
     "name": "stdout",
     "output_type": "stream",
     "text": [
      "WT attributes: r = 0.24, K = 100, m = 0.3, mutation rate = 0\n",
      "MT attributes: r = 0.24, K = 100, m = 0.3, mutation rate = 0\n",
      "initial conditions: subcolony size = 10, number of subcolonies = 1000, and allele frequency = 0.5\n",
      "growth time = 2 days\n"
     ]
    }
   ],
   "source": [
    "print('WT attributes: r = {}, K = {}, m = {}, mutation rate = {}'.format(rWT,KWT,mWT,mutation_rateWT))\n",
    "print('MT attributes: r = {}, K = {}, m = {}, mutation rate = {}'.format(rMT, KMT, mMT, mutation_rateMT))\n",
    "print('initial conditions: subcolony size = {}, number of subcolonies = {}, and allele frequency = {}'.format(cell_count, colony_no, frequency))\n",
    "print('growth time = {} days'.format(total_days))"
   ]
  },
  {
   "cell_type": "code",
   "execution_count": 38,
   "metadata": {},
   "outputs": [],
   "source": [
    "lattice2 = run_simulation(final_time, traits, size, cell_count, frequency, colony_no = colony_no)"
   ]
  },
  {
   "cell_type": "code",
   "execution_count": 39,
   "metadata": {},
   "outputs": [
    {
     "name": "stdout",
     "output_type": "stream",
     "text": [
      "total cell count: 412557.0\n",
      "lattice sites occupied: 4536\n",
      "colony allele frequency: 0.43696970095029936\n"
     ]
    }
   ],
   "source": [
    "print('total cell count: ' + str(lattice2.colony_size()))\n",
    "print('lattice sites occupied: ' + str(np.count_nonzero(lattice2.counts)))\n",
    "print('colony allele frequency: ' + str(lattice2.colony_frequency()))"
   ]
  },
  {
   "cell_type": "code",
   "execution_count": 40,
   "metadata": {},
   "outputs": [
    {
     "data": {
      "text/plain": [
       "<matplotlib.image.AxesImage at 0x7f9901c62730>"
      ]
     },
     "execution_count": 40,
     "metadata": {},
     "output_type": "execute_result"
    },
    {
     "data": {
      "image/png": "[encoded data removed]",
      "text/plain": [
       "<Figure size 432x288 with 1 Axes>"
      ]
     },
     "metadata": {
      "needs_background": "light"
     },
     "output_type": "display_data"
    }
   ],
   "source": [
    "lattice2.return_colony_image()"
   ]
  },
  {
   "cell_type": "code",
   "execution_count": 46,
   "metadata": {},
   "outputs": [],
   "source": [
    "image2 = lattice2.counts\n",
    "image2[np.nonzero(image2)] = 1\n",
    "perimeter2 = measure.perimeter(image2, neighborhood=8)\n",
    "area2 = np.count_nonzero(lattice2.counts)"
   ]
  },
  {
   "cell_type": "code",
   "execution_count": 47,
   "metadata": {},
   "outputs": [
    {
     "data": {
      "text/plain": [
       "3.787952973476414"
      ]
     },
     "execution_count": 47,
     "metadata": {},
     "output_type": "execute_result"
    }
   ],
   "source": [
    "p2a2 = (perimeter2**2)/(4 * math.pi * area2)\n",
    "p2a2"
   ]
  },
  {
   "cell_type": "code",
   "execution_count": null,
   "metadata": {},
   "outputs": [],
   "source": []
  }
 ],
 "metadata": {
  "kernelspec": {
   "display_name": "Python 3",
   "language": "python",
   "name": "python3"
  },
  "language_info": {
   "codemirror_mode": {
    "name": "ipython",
    "version": 3
   },
   "file_extension": ".py",
   "mimetype": "text/x-python",
   "name": "python",
   "nbconvert_exporter": "python",
   "pygments_lexer": "ipython3",
   "version": "3.8.5"
  },
  "orig_nbformat": 4
 },
 "nbformat": 4,
 "nbformat_minor": 2
}
